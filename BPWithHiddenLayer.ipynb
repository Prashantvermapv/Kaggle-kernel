{
 "cells": [
  {
   "cell_type": "code",
   "execution_count": 1,
   "metadata": {
    "collapsed": true
   },
   "outputs": [],
   "source": [
    "import numpy as np"
   ]
  },
  {
   "cell_type": "code",
   "execution_count": 5,
   "metadata": {},
   "outputs": [
    {
     "data": {
      "text/plain": [
       "array([[0],\n",
       "       [1],\n",
       "       [1],\n",
       "       [0]])"
      ]
     },
     "execution_count": 5,
     "metadata": {},
     "output_type": "execute_result"
    }
   ],
   "source": [
    "X = np.array([[0,0], [0,1], [1,0], [1,1]])\n",
    "Y = np.array([[0,1,1,0]]).T\n",
    "Y"
   ]
  },
  {
   "cell_type": "code",
   "execution_count": 3,
   "metadata": {
    "collapsed": true
   },
   "outputs": [],
   "source": [
    "def sig(z):\n",
    "    return 1/(1 + np.exp(-z))"
   ]
  },
  {
   "cell_type": "code",
   "execution_count": 4,
   "metadata": {
    "collapsed": true
   },
   "outputs": [],
   "source": [
    "def dsig(z):\n",
    "    return sig(z)*(1 - sig(z))"
   ]
  },
  {
   "cell_type": "code",
   "execution_count": 26,
   "metadata": {
    "collapsed": true
   },
   "outputs": [],
   "source": [
    "wh = 2 * np.random.random((2,2)) - 1\n",
    "bh = np.random.random((1, 2))* 2 - 1\n",
    "wo = 2 * np.random.random((2,1)) - 1\n",
    "bo = np.random.random(1)* 2 - 1"
   ]
  },
  {
   "cell_type": "code",
   "execution_count": 14,
   "metadata": {
    "collapsed": true
   },
   "outputs": [],
   "source": [
    "def forward(x, wh, wo, bh, bo):\n",
    "    output0 = x\n",
    "    hidden_layer_input = np.dot(output0, wh) + bh\n",
    "    hidden_layer_output = sig(hidden_layer_input)\n",
    "    \n",
    "    output_layer_input = np.dot(hidden_layer_output, wo) + bo\n",
    "    output = sig(output_layer_input)\n",
    "    return output"
   ]
  },
  {
   "cell_type": "code",
   "execution_count": 15,
   "metadata": {},
   "outputs": [],
   "source": [
    "def train(X, Y, wh, wo, bh, bo, iterations, lr):\n",
    "    for i in range(iterations):\n",
    "        output0 = X\n",
    "        hidden_layer_input = np.dot(output0, wh) + bh\n",
    "        hidden_layer_output = sig(hidden_layer_input)\n",
    "\n",
    "        output_layer_input = np.dot(hidden_layer_output, wo) + bo\n",
    "        output = sig(output_layer_input)\n",
    "\n",
    "        first_term_output = output - Y\n",
    "        second_term_output = dsig(output_layer_input)\n",
    "        first_two_terms_output = first_term_output * second_term_output\n",
    "\n",
    "        second_term_hidden_layer = dsig(hidden_layer_input)\n",
    "        first_term_hidden_layer = np.dot(first_two_terms_output, wo.T)\n",
    "        first_two_terms_hidden = first_term_hidden_layer*second_term_hidden_layer\n",
    "\n",
    "        changes_wo = np.dot(hidden_layer_output.T, first_two_terms_output)\n",
    "        changes_wh = np.dot(output0.T, first_two_terms_hidden)\n",
    "\n",
    "        wh = wh - lr * changes_wh\n",
    "        wo = wo - lr * changes_wo\n",
    "\n",
    "        changes_bh = np.sum(first_two_terms_hidden, axis = 0)\n",
    "        changes_bo = np.sum(first_two_terms_output, axis = 0)\n",
    "\n",
    "        bh = bh - lr * changes_bh\n",
    "        bo = bo - lr*changes_bo\n",
    "    return wh, wo, bh, bo\n",
    "        "
   ]
  },
  {
   "cell_type": "code",
   "execution_count": 27,
   "metadata": {},
   "outputs": [],
   "source": [
    "wh, wo, bh, bo = train(X, Y, wh, wo, bh, bo, 100000, 0.1)"
   ]
  },
  {
   "cell_type": "code",
   "execution_count": 28,
   "metadata": {},
   "outputs": [
    {
     "data": {
      "text/plain": [
       "array([[ 0.01268594],\n",
       "       [ 0.98909117],\n",
       "       [ 0.98898829],\n",
       "       [ 0.01148253]])"
      ]
     },
     "execution_count": 28,
     "metadata": {},
     "output_type": "execute_result"
    }
   ],
   "source": [
    "forward(X, wh, wo, bh, bo)"
   ]
  },
  {
   "cell_type": "code",
   "execution_count": 29,
   "metadata": {},
   "outputs": [
    {
     "data": {
      "text/plain": [
       "array([[-6.63931523,  5.86076933],\n",
       "       [ 6.56184516, -6.11030544]])"
      ]
     },
     "execution_count": 29,
     "metadata": {},
     "output_type": "execute_result"
    }
   ],
   "source": [
    "wh"
   ]
  },
  {
   "cell_type": "code",
   "execution_count": 30,
   "metadata": {},
   "outputs": [
    {
     "data": {
      "text/plain": [
       "array([[-3.64544069, -3.23846378]])"
      ]
     },
     "execution_count": 30,
     "metadata": {},
     "output_type": "execute_result"
    }
   ],
   "source": [
    "bh"
   ]
  },
  {
   "cell_type": "code",
   "execution_count": 31,
   "metadata": {},
   "outputs": [
    {
     "data": {
      "text/plain": [
       "array([[ 10.01408509],\n",
       "       [ 10.18030576]])"
      ]
     },
     "execution_count": 31,
     "metadata": {},
     "output_type": "execute_result"
    }
   ],
   "source": [
    "wo"
   ]
  },
  {
   "cell_type": "code",
   "execution_count": 32,
   "metadata": {},
   "outputs": [
    {
     "data": {
      "text/plain": [
       "array([-4.99354899])"
      ]
     },
     "execution_count": 32,
     "metadata": {},
     "output_type": "execute_result"
    }
   ],
   "source": [
    "bo"
   ]
  },
  {
   "cell_type": "code",
   "execution_count": null,
   "metadata": {
    "collapsed": true
   },
   "outputs": [],
   "source": []
  }
 ],
 "metadata": {
  "anaconda-cloud": {},
  "kernelspec": {
   "display_name": "Python 3",
   "language": "python",
   "name": "python3"
  },
  "language_info": {
   "codemirror_mode": {
    "name": "ipython",
    "version": 3
   },
   "file_extension": ".py",
   "mimetype": "text/x-python",
   "name": "python",
   "nbconvert_exporter": "python",
   "pygments_lexer": "ipython3",
   "version": "3.7.3"
  }
 },
 "nbformat": 4,
 "nbformat_minor": 1
}
