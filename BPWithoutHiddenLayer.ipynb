{
 "cells": [
  {
   "cell_type": "code",
   "execution_count": 1,
   "metadata": {
    "collapsed": true
   },
   "outputs": [],
   "source": [
    "import numpy as np"
   ]
  },
  {
   "cell_type": "code",
   "execution_count": 27,
   "metadata": {
    "collapsed": false
   },
   "outputs": [
    {
     "data": {
      "text/plain": [
       "array([[0],\n",
       "       [1],\n",
       "       [1],\n",
       "       [1]])"
      ]
     },
     "execution_count": 27,
     "metadata": {},
     "output_type": "execute_result"
    }
   ],
   "source": [
    "X = np.array([[0,0, 1], [0,1, 1], [1,0, 1], [1,1, 1]])\n",
    "Y = np.array([[0,1,1,1]]).T\n",
    "Y"
   ]
  },
  {
   "cell_type": "code",
   "execution_count": 3,
   "metadata": {
    "collapsed": true
   },
   "outputs": [],
   "source": [
    "def sig(z):\n",
    "    return 1/(1 + np.exp(-z))"
   ]
  },
  {
   "cell_type": "code",
   "execution_count": 10,
   "metadata": {
    "collapsed": true
   },
   "outputs": [],
   "source": [
    "def dsig(z):\n",
    "    return sig(z)*(1 - sig(z))"
   ]
  },
  {
   "cell_type": "code",
   "execution_count": 5,
   "metadata": {
    "collapsed": true
   },
   "outputs": [],
   "source": [
    "weights = 2 * np.random.random((3,1)) - 1"
   ]
  },
  {
   "cell_type": "code",
   "execution_count": 17,
   "metadata": {
    "collapsed": true
   },
   "outputs": [],
   "source": [
    "def forward(x, weights):\n",
    "    output0 = X\n",
    "    input_o = np.dot(output0, weights)\n",
    "    output = sig(input_o)\n",
    "    return output"
   ]
  },
  {
   "cell_type": "code",
   "execution_count": 25,
   "metadata": {
    "collapsed": false
   },
   "outputs": [],
   "source": [
    "def train(X, Y, weights, iterations, lr):\n",
    "    for it in range(iterations):\n",
    "        output0 = X\n",
    "        input_o = np.dot(output0, weights)\n",
    "        output = sig(input_o)\n",
    "        first_term = output - Y\n",
    "        second_term = dsig(input_o)\n",
    "        first_two_terms = first_term * second_term\n",
    "        #changes = np.array([[0.0], [0.0], [0.0]])\n",
    "        #for i in range(3):\n",
    "        #   for j in range(4):\n",
    "        #      changes[i][0] += first_two_terms[j][0]*output0[j][i]\n",
    "        changes = np.dot(output0.T, first_two_terms)\n",
    "        weights = weights - lr*changes\n",
    "    return weights"
   ]
  },
  {
   "cell_type": "code",
   "execution_count": 28,
   "metadata": {
    "collapsed": false
   },
   "outputs": [
    {
     "data": {
      "text/plain": [
       "(array([[ 6.17902628],\n",
       "        [ 6.1789701 ],\n",
       "        [-2.84332638]]), array([[ 0.05502731],\n",
       "        [ 0.96563156],\n",
       "        [ 0.96563343],\n",
       "        [ 0.99992624]]))"
      ]
     },
     "execution_count": 28,
     "metadata": {},
     "output_type": "execute_result"
    }
   ],
   "source": [
    "final_weights = train(X, Y, weights, 10000,  0.1)\n",
    "final_weights, forward(X, final_weights)\n"
   ]
  }
 ],
 "metadata": {
  "kernelspec": {
   "display_name": "Python [conda env:py3k]",
   "language": "python",
   "name": "conda-env-py3k-py"
  },
  "language_info": {
   "codemirror_mode": {
    "name": "ipython",
    "version": 3
   },
   "file_extension": ".py",
   "mimetype": "text/x-python",
   "name": "python",
   "nbconvert_exporter": "python",
   "pygments_lexer": "ipython3",
   "version": "3.6.0"
  }
 },
 "nbformat": 4,
 "nbformat_minor": 1
}
